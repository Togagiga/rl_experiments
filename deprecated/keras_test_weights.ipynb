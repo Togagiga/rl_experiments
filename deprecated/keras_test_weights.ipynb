{
 "cells": [
  {
   "cell_type": "code",
   "execution_count": 29,
   "metadata": {},
   "outputs": [
    {
     "name": "stdout",
     "output_type": "stream",
     "text": [
      "Shape of input of model: (1, 6)\n",
      "[0.0000000e+00 1.0000000e+00 2.5784364e-12 0.0000000e+00 0.0000000e+00]\n",
      "Predicted Action: 1\n",
      "\n"
     ]
    }
   ],
   "source": [
    "import numpy as np\n",
    "import tensorflow as tf\n",
    "from tensorflow.keras import Sequential\n",
    "from tensorflow.keras.layers import Dense\n",
    "from tensorflow.keras.optimizers import Adam\n",
    "import matplotlib.pyplot as plt\n",
    "\n",
    "action_space = 5\n",
    "state_space = 6\n",
    "\n",
    "\n",
    "# takes in state of env and outputs action\n",
    "def build_model():\n",
    "    model = Sequential()\n",
    "    model.add(Dense(32, activation = \"relu\", input_shape=(state_space,)))\n",
    "    model.add(Dense(16, activation = \"relu\"))\n",
    "    model.add(Dense(action_space, activation = \"softmax\"))\n",
    "#     model.compile(optimizer = \"rmsprop\",\n",
    "#                   loss = \"categorical_crossentropy\",\n",
    "#                   metrics=[\"accuracy\"])\n",
    "\n",
    "    return model\n",
    "\n",
    "\n",
    "model = build_model()\n",
    "input_data = np.array([165, 120, 60, 30, 150, 5.5])\n",
    "input_data = input_data.reshape(1,input_data.shape[0])\n",
    "# ensuring input shape is correct\n",
    "print(f\"Shape of input of model: {input_data.shape}\")\n",
    "\n",
    "# making predictions based on initialised model\n",
    "prediction = model.predict(input_data, batch_size=1)\n",
    "print(prediction[0])\n",
    "print(f\"Predicted Action: {np.argmax(prediction[0])}\\n\")\n",
    "\n",
    "\n",
    "for layer in model.layers:\n",
    "    weights = np.array(layer.get_weights())\n",
    "    # print(weights)\n",
    "    # weights = [[weights], [nodes_vals]]\n",
    "    # new_weights = np.array([[write here...], [np.zeros(1,....)]])\n",
    "    inputs = weights[0]\n",
    "    outputs = weights[1]\n",
    "#     print(f\"----------LAYER {layer.name}----------\")\n",
    "#     print(weights[0].shape)\n",
    "#     print(f\"Weights per Neuron: {len(inputs)}, No of Neurons: {len(inputs[0])}\")\n",
    "#     print(inputs)\n",
    "#     print(f\"Outputs of Layer (one for each Neuron): {len(outputs)}\")\n",
    "#     print(outputs)\n",
    "#     print(\"\\n\")\n",
    "    \n",
    "# layer.set_weights(weights)"
   ]
  },
  {
   "cell_type": "code",
   "execution_count": null,
   "metadata": {},
   "outputs": [],
   "source": [
    "for layer in model.layers:\n",
    "    weights = np.array(layer.get_weights())\n",
    "\n",
    "    child_weights = weights\n",
    "\n",
    "    for i in range(len(weights[0])):\n",
    "        for j in range(len(weights[0][0])):\n",
    "            child_weights[0][i][j] = np.random.normal(weights[0][i][j], 0.1, 1)   # play with second arg\n",
    "\n",
    "    layer.set_weights(child_weights)\n",
    "    print(layer.name)\n",
    "\n",
    "    # print(layer.get_weights())\n",
    "    \n",
    "\n",
    "input_data = np.array([165, 120, 60, 30, 150, 5.5])\n",
    "input_data = input_data.reshape(1,input_data.shape[0])\n",
    "# ensuring input shape is correct\n",
    "print(f\"Shape of input of model: {input_data.shape}\")\n",
    "\n",
    "# making predictions based on initialised model\n",
    "prediction = model.predict(input_data, batch_size=1)\n",
    "print(prediction[0])\n",
    "print(f\"Predicted Action: {np.argmax(prediction[0])}\\n\")"
   ]
  },
  {
   "cell_type": "code",
   "execution_count": null,
   "metadata": {},
   "outputs": [],
   "source": []
  }
 ],
 "metadata": {
  "kernelspec": {
   "display_name": "Python 3",
   "language": "python",
   "name": "python3"
  },
  "language_info": {
   "codemirror_mode": {
    "name": "ipython",
    "version": 3
   },
   "file_extension": ".py",
   "mimetype": "text/x-python",
   "name": "python",
   "nbconvert_exporter": "python",
   "pygments_lexer": "ipython3",
   "version": "3.7.7"
  }
 },
 "nbformat": 4,
 "nbformat_minor": 4
}
